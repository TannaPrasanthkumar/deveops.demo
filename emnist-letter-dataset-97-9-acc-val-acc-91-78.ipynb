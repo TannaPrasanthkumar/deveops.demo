{
 "cells": [
  {
   "cell_type": "markdown",
   "metadata": {
    "papermill": {
     "duration": 0.03452,
     "end_time": "2024-04-23T18:04:47.598329",
     "exception": false,
     "start_time": "2024-04-23T18:04:47.563809",
     "status": "completed"
    },
    "tags": []
   },
   "source": [
    "# <font color='Orange'>Hope everyone who reads this notebook finds it helpful. Do upvote it. Thank You 🙏😃"
   ]
  },
  {
   "cell_type": "markdown",
   "metadata": {
    "papermill": {
     "duration": 0.035259,
     "end_time": "2024-04-23T18:04:47.666030",
     "exception": false,
     "start_time": "2024-04-23T18:04:47.630771",
     "status": "completed"
    },
    "tags": []
   },
   "source": [
    "# <font color ='torcous'>EMNIST Letter Dataset with 96.7% accuracy "
   ]
  },
  {
   "attachments": {
    "emnist-byclass.png": {
     "image/png": "[encoded data removed]"
    }
   },
   "cell_type": "markdown",
   "metadata": {
    "papermill": {
     "duration": 0.033003,
     "end_time": "2024-04-23T18:04:47.735479",
     "exception": false,
     "start_time": "2024-04-23T18:04:47.702476",
     "status": "completed"
    },
    "tags": []
   },
   "source": [
    "![emnist-byclass.png](attachment:emnist-byclass.png)"
   ]
  },
  {
   "cell_type": "markdown",
   "metadata": {
    "papermill": {
     "duration": 0.036202,
     "end_time": "2024-04-23T18:04:47.803700",
     "exception": false,
     "start_time": "2024-04-23T18:04:47.767498",
     "status": "completed"
    },
    "tags": []
   },
   "source": [
    "## <font color='#00B2FF'> The EMNIST dataset is a set of handwritten character digits derived from the NIST Special Database 19 and converted to a 28x28 pixel image format and dataset structure that directly matches the MNIST dataset .\n"
   ]
  },
  {
   "cell_type": "markdown",
   "metadata": {
    "papermill": {
     "duration": 0.039447,
     "end_time": "2024-04-23T18:04:47.882979",
     "exception": false,
     "start_time": "2024-04-23T18:04:47.843532",
     "status": "completed"
    },
    "tags": []
   },
   "source": [
    "## Here we are specifically using EMNIST letter dataset. So Let's get started"
   ]
  },
  {
   "cell_type": "code",
   "execution_count": 1,
   "metadata": {
    "_cell_guid": "b1076dfc-b9ad-4769-8c92-a6c4dae69d19",
    "_kg_hide-output": true,
    "_uuid": "8f2839f25d086af736a60e9eeb907d3b93b6e0e5",
    "execution": {
     "iopub.execute_input": "2024-02-17T14:30:23.599468Z",
     "iopub.status.busy": "2024-02-17T14:30:23.599098Z",
     "iopub.status.idle": "2024-02-17T14:30:23.628467Z",
     "shell.execute_reply": "2024-02-17T14:30:23.627558Z",
     "shell.execute_reply.started": "2024-02-17T14:30:23.599419Z"
    },
    "papermill": {
     "duration": 0.088105,
     "end_time": "2024-04-23T18:04:48.013701",
     "exception": false,
     "start_time": "2024-04-23T18:04:47.925596",
     "status": "completed"
    },
    "tags": []
   },
   "outputs": [
    {
     "name": "stdout",
     "output_type": "stream",
     "text": [
      "/kaggle/input/emnist/emnist-letters-mapping.txt\n",
      "/kaggle/input/emnist/emnist-letters-test.csv\n",
      "/kaggle/input/emnist/emnist-mnist-mapping.txt\n",
      "/kaggle/input/emnist/emnist-digits-train.csv\n",
      "/kaggle/input/emnist/emnist-bymerge-mapping.txt\n",
      "/kaggle/input/emnist/emnist-balanced-train.csv\n",
      "/kaggle/input/emnist/emnist-digits-test.csv\n",
      "/kaggle/input/emnist/emnist-balanced-test.csv\n",
      "/kaggle/input/emnist/emnist-mnist-test.csv\n",
      "/kaggle/input/emnist/emnist-letters-train.csv\n",
      "/kaggle/input/emnist/emnist-byclass-train.csv\n",
      "/kaggle/input/emnist/emnist-bymerge-test.csv\n",
      "/kaggle/input/emnist/emnist-balanced-mapping.txt\n",
      "/kaggle/input/emnist/emnist-mnist-train.csv\n",
      "/kaggle/input/emnist/emnist-digits-mapping.txt\n",
      "/kaggle/input/emnist/emnist-bymerge-train.csv\n",
      "/kaggle/input/emnist/emnist-byclass-test.csv\n",
      "/kaggle/input/emnist/emnist-byclass-mapping.txt\n",
      "/kaggle/input/emnist/emnist_source_files/emnist-digits-test-labels-idx1-ubyte\n",
      "/kaggle/input/emnist/emnist_source_files/emnist-bymerge-train-labels-idx1-ubyte\n",
      "/kaggle/input/emnist/emnist_source_files/emnist-letters-test-labels-idx1-ubyte\n",
      "/kaggle/input/emnist/emnist_source_files/emnist-byclass-train-images-idx3-ubyte\n",
      "/kaggle/input/emnist/emnist_source_files/emnist-byclass-test-images-idx3-ubyte\n",
      "/kaggle/input/emnist/emnist_source_files/emnist-mnist-train-images-idx3-ubyte\n",
      "/kaggle/input/emnist/emnist_source_files/emnist-digits-train-labels-idx1-ubyte\n",
      "/kaggle/input/emnist/emnist_source_files/emnist-bymerge-test-images-idx3-ubyte\n",
      "/kaggle/input/emnist/emnist_source_files/emnist-bymerge-test-labels-idx1-ubyte\n",
      "/kaggle/input/emnist/emnist_source_files/emnist-mnist-test-labels-idx1-ubyte\n",
      "/kaggle/input/emnist/emnist_source_files/emnist-balanced-test-labels-idx1-ubyte\n",
      "/kaggle/input/emnist/emnist_source_files/emnist-balanced-test-images-idx3-ubyte\n",
      "/kaggle/input/emnist/emnist_source_files/emnist-mnist-test-images-idx3-ubyte\n",
      "/kaggle/input/emnist/emnist_source_files/emnist-bymerge-train-images-idx3-ubyte\n",
      "/kaggle/input/emnist/emnist_source_files/emnist-letters-train-labels-idx1-ubyte\n",
      "/kaggle/input/emnist/emnist_source_files/emnist-digits-train-images-idx3-ubyte\n",
      "/kaggle/input/emnist/emnist_source_files/emnist-byclass-train-labels-idx1-ubyte\n",
      "/kaggle/input/emnist/emnist_source_files/emnist-balanced-train-images-idx3-ubyte\n",
      "/kaggle/input/emnist/emnist_source_files/emnist-balanced-train-labels-idx1-ubyte\n",
      "/kaggle/input/emnist/emnist_source_files/emnist-letters-test-images-idx3-ubyte\n",
      "/kaggle/input/emnist/emnist_source_files/emnist-byclass-test-labels-idx1-ubyte\n",
      "/kaggle/input/emnist/emnist_source_files/emnist-letters-train-images-idx3-ubyte\n",
      "/kaggle/input/emnist/emnist_source_files/emnist-mnist-train-labels-idx1-ubyte\n",
      "/kaggle/input/emnist/emnist_source_files/emnist-digits-test-images-idx3-ubyte\n"
     ]
    }
   ],
   "source": [
    "# This Python 3 environment comes with many helpful analytics libraries installed\n",
    "# It is defined by the kaggle/python Docker image: https://github.com/kaggle/docker-python\n",
    "# For example, here's several helpful packages to load\n",
    "\n",
    "import numpy as np # linear algebra\n",
    "import pandas as pd # data processing, CSV file I/O (e.g. pd.read_csv)\n",
    "\n",
    "# Input data files are available in the read-only \"../input/\" directory\n",
    "# For example, running this (by clicking run or pressing Shift+Enter) will list all files under the input directory\n",
    "\n",
    "import os\n",
    "for dirname, _, filenames in os.walk('/kaggle/input'):\n",
    "    for filename in filenames:\n",
    "        print(os.path.join(dirname, filename))\n",
    "\n",
    "# You can write up to 5GB to the current directory (/kaggle/working/) that gets preserved as output when you create a version using \"Save & Run All\" \n",
    "# You can also write temporary files to /kaggle/temp/, but they won't be saved outside of the current session"
   ]
  },
  {
   "cell_type": "code",
   "execution_count": 2,
   "metadata": {
    "_cell_guid": "79c7e3d0-c299-4dcb-8224-4455121ee9b0",
    "_uuid": "d629ff2d2480ee46fbb7e2d37f6b5fab8052498a",
    "execution": {
     "iopub.execute_input": "2024-02-17T14:30:32.65161Z",
     "iopub.status.busy": "2024-02-17T14:30:32.651229Z",
     "iopub.status.idle": "2024-02-17T14:30:42.372282Z",
     "shell.execute_reply": "2024-02-17T14:30:42.371301Z",
     "shell.execute_reply.started": "2024-02-17T14:30:32.651554Z"
    },
    "papermill": {
     "duration": 13.527391,
     "end_time": "2024-04-23T18:05:01.573496",
     "exception": false,
     "start_time": "2024-04-23T18:04:48.046105",
     "status": "completed"
    },
    "tags": []
   },
   "outputs": [],
   "source": [
    "#/kaggle/input/emnist/emnist-letters-mapping.txt\n",
    "testing_letter = pd.read_csv('/kaggle/input/emnist/emnist-letters-test.csv')\n",
    "training_letter = pd.read_csv('/kaggle/input/emnist/emnist-letters-train.csv')"
   ]
  },
  {
   "cell_type": "code",
   "execution_count": 3,
   "metadata": {
    "execution": {
     "iopub.execute_input": "2024-02-17T14:30:42.387073Z",
     "iopub.status.busy": "2024-02-17T14:30:42.386268Z",
     "iopub.status.idle": "2024-02-17T14:30:42.394652Z",
     "shell.execute_reply": "2024-02-17T14:30:42.393Z",
     "shell.execute_reply.started": "2024-02-17T14:30:42.38667Z"
    },
    "papermill": {
     "duration": 0.047302,
     "end_time": "2024-04-23T18:05:01.654432",
     "exception": false,
     "start_time": "2024-04-23T18:05:01.607130",
     "status": "completed"
    },
    "tags": []
   },
   "outputs": [
    {
     "name": "stdout",
     "output_type": "stream",
     "text": [
      "(88799, 785)\n",
      "(14799, 785)\n"
     ]
    }
   ],
   "source": [
    "print(training_letter.shape)\n",
    "print(testing_letter.shape)"
   ]
  },
  {
   "cell_type": "code",
   "execution_count": 4,
   "metadata": {
    "execution": {
     "iopub.execute_input": "2024-02-17T14:30:46.490668Z",
     "iopub.status.busy": "2024-02-17T14:30:46.490093Z",
     "iopub.status.idle": "2024-02-17T14:30:46.791018Z",
     "shell.execute_reply": "2024-02-17T14:30:46.789847Z",
     "shell.execute_reply.started": "2024-02-17T14:30:46.490444Z"
    },
    "papermill": {
     "duration": 0.326645,
     "end_time": "2024-04-23T18:05:02.016364",
     "exception": false,
     "start_time": "2024-04-23T18:05:01.689719",
     "status": "completed"
    },
    "tags": []
   },
   "outputs": [
    {
     "name": "stdout",
     "output_type": "stream",
     "text": [
      "(88799,)\n",
      "(88799, 784)\n"
     ]
    }
   ],
   "source": [
    "#training_letters\n",
    "y1 = np.array(training_letter.iloc[:,0].values)\n",
    "x1 = np.array(training_letter.iloc[:,1:].values)\n",
    "#testing_labels\n",
    "y2 = np.array(testing_letter.iloc[:,0].values)\n",
    "x2 = np.array(testing_letter.iloc[:,1:].values)\n",
    "print(y1.shape)\n",
    "print(x1.shape)"
   ]
  },
  {
   "cell_type": "markdown",
   "metadata": {
    "papermill": {
     "duration": 0.034088,
     "end_time": "2024-04-23T18:05:02.087917",
     "exception": false,
     "start_time": "2024-04-23T18:05:02.053829",
     "status": "completed"
    },
    "tags": []
   },
   "source": [
    "## Let's see what type of images we have got. "
   ]
  },
  {
   "cell_type": "code",
   "execution_count": 5,
   "metadata": {
    "execution": {
     "iopub.execute_input": "2024-02-17T14:30:49.398407Z",
     "iopub.status.busy": "2024-02-17T14:30:49.397871Z",
     "iopub.status.idle": "2024-02-17T14:30:50.97048Z",
     "shell.execute_reply": "2024-02-17T14:30:50.969312Z",
     "shell.execute_reply.started": "2024-02-17T14:30:49.398358Z"
    },
    "papermill": {
     "duration": 1.922417,
     "end_time": "2024-04-23T18:05:04.046405",
     "exception": false,
     "start_time": "2024-04-23T18:05:02.123988",
     "status": "completed"
    },
    "tags": []
   },
   "outputs": [
    {
     "data": {
      "image/png": "[encoded data removed]",
      "text/plain": [
       "<Figure size 720x576 with 15 Axes>"
      ]
     },
     "metadata": {
      "needs_background": "light"
     },
     "output_type": "display_data"
    }
   ],
   "source": [
    "import matplotlib.pyplot as plt \n",
    "fig,axes = plt.subplots(3,5,figsize=(10,8))\n",
    "for i,ax in enumerate(axes.flat):\n",
    "    ax.imshow(x1[i].reshape([28,28]))\n"
   ]
  },
  {
   "cell_type": "code",
   "execution_count": 6,
   "metadata": {
    "execution": {
     "iopub.execute_input": "2024-02-17T14:31:25.747845Z",
     "iopub.status.busy": "2024-02-17T14:31:25.747419Z",
     "iopub.status.idle": "2024-02-17T14:31:31.078947Z",
     "shell.execute_reply": "2024-02-17T14:31:31.077843Z",
     "shell.execute_reply.started": "2024-02-17T14:31:25.747782Z"
    },
    "papermill": {
     "duration": 6.406639,
     "end_time": "2024-04-23T18:05:10.487524",
     "exception": false,
     "start_time": "2024-04-23T18:05:04.080885",
     "status": "completed"
    },
    "tags": []
   },
   "outputs": [],
   "source": [
    "import tensorflow as tf"
   ]
  },
  {
   "cell_type": "markdown",
   "metadata": {
    "papermill": {
     "duration": 0.035127,
     "end_time": "2024-04-23T18:05:10.557620",
     "exception": false,
     "start_time": "2024-04-23T18:05:10.522493",
     "status": "completed"
    },
    "tags": []
   },
   "source": [
    "# Preprocesssing"
   ]
  },
  {
   "cell_type": "markdown",
   "metadata": {
    "papermill": {
     "duration": 0.03515,
     "end_time": "2024-04-23T18:05:10.627428",
     "exception": false,
     "start_time": "2024-04-23T18:05:10.592278",
     "status": "completed"
    },
    "tags": []
   },
   "source": [
    "# 1. Normalisation and reshaping of data"
   ]
  },
  {
   "cell_type": "markdown",
   "metadata": {
    "papermill": {
     "duration": 0.033731,
     "end_time": "2024-04-23T18:05:10.695860",
     "exception": false,
     "start_time": "2024-04-23T18:05:10.662129",
     "status": "completed"
    },
    "tags": []
   },
   "source": [
    "### Before feeding in the data to the model we will normalise and reshape the data given to us. This will decrease the complexity of the models and make the model work efficiently as less complex numbers will be there to process."
   ]
  },
  {
   "cell_type": "code",
   "execution_count": 7,
   "metadata": {
    "execution": {
     "iopub.execute_input": "2024-02-17T14:31:31.082459Z",
     "iopub.status.busy": "2024-02-17T14:31:31.081959Z",
     "iopub.status.idle": "2024-02-17T14:31:31.41125Z",
     "shell.execute_reply": "2024-02-17T14:31:31.41022Z",
     "shell.execute_reply.started": "2024-02-17T14:31:31.082382Z"
    },
    "papermill": {
     "duration": 0.496186,
     "end_time": "2024-04-23T18:05:11.228715",
     "exception": false,
     "start_time": "2024-04-23T18:05:10.732529",
     "status": "completed"
    },
    "tags": []
   },
   "outputs": [],
   "source": [
    "# Normalise and reshape data\n",
    "train_images = x1 / 255.0\n",
    "test_images = x2 / 255.0\n",
    "\n",
    "train_images_number = train_images.shape[0]\n",
    "train_images_height = 28\n",
    "train_images_width = 28\n",
    "train_images_size = train_images_height*train_images_width\n",
    "\n",
    "train_images = train_images.reshape(train_images_number, train_images_height, train_images_width, 1)\n",
    "\n",
    "test_images_number = test_images.shape[0]\n",
    "test_images_height = 28\n",
    "test_images_width = 28\n",
    "test_images_size = test_images_height*test_images_width\n",
    "\n",
    "test_images = test_images.reshape(test_images_number, test_images_height, test_images_width, 1)"
   ]
  },
  {
   "cell_type": "code",
   "execution_count": 8,
   "metadata": {
    "execution": {
     "iopub.execute_input": "2024-02-17T14:31:31.412873Z",
     "iopub.status.busy": "2024-02-17T14:31:31.412529Z",
     "iopub.status.idle": "2024-02-17T14:31:31.421498Z",
     "shell.execute_reply": "2024-02-17T14:31:31.4206Z",
     "shell.execute_reply.started": "2024-02-17T14:31:31.412818Z"
    },
    "papermill": {
     "duration": 0.05168,
     "end_time": "2024-04-23T18:05:11.318056",
     "exception": false,
     "start_time": "2024-04-23T18:05:11.266376",
     "status": "completed"
    },
    "tags": []
   },
   "outputs": [],
   "source": [
    "# Transform labels\n",
    "number_of_classes = 37\n",
    "\n",
    "y1 = tf.keras.utils.to_categorical(y1, number_of_classes)\n",
    "y2 = tf.keras.utils.to_categorical(y2, number_of_classes)"
   ]
  },
  {
   "cell_type": "markdown",
   "metadata": {
    "papermill": {
     "duration": 0.034587,
     "end_time": "2024-04-23T18:05:11.392064",
     "exception": false,
     "start_time": "2024-04-23T18:05:11.357477",
     "status": "completed"
    },
    "tags": []
   },
   "source": [
    "# Lets create a CNN for the classification of these random images."
   ]
  },
  {
   "cell_type": "code",
   "execution_count": 9,
   "metadata": {
    "execution": {
     "iopub.execute_input": "2024-02-17T14:31:31.422762Z",
     "iopub.status.busy": "2024-02-17T14:31:31.422467Z",
     "iopub.status.idle": "2024-02-17T14:31:31.438625Z",
     "shell.execute_reply": "2024-02-17T14:31:31.437792Z",
     "shell.execute_reply.started": "2024-02-17T14:31:31.422708Z"
    },
    "papermill": {
     "duration": 0.058025,
     "end_time": "2024-04-23T18:05:11.487267",
     "exception": false,
     "start_time": "2024-04-23T18:05:11.429242",
     "status": "completed"
    },
    "tags": []
   },
   "outputs": [],
   "source": [
    "#from tensorflow.keras.preprocessing.image import ImageDataGenerator\n",
    "#from tensorflow.keras.models import Model\n",
    "#from tensorflow.keras.layers import Dense,Dropout,MaxPooling2D,Conv2D\n",
    "from tensorflow.keras.callbacks import EarlyStopping, ReduceLROnPlateau,ModelCheckpoint"
   ]
  },
  {
   "cell_type": "code",
   "execution_count": 10,
   "metadata": {
    "execution": {
     "iopub.execute_input": "2024-02-17T14:31:31.441359Z",
     "iopub.status.busy": "2024-02-17T14:31:31.441036Z",
     "iopub.status.idle": "2024-02-17T14:31:32.217879Z",
     "shell.execute_reply": "2024-02-17T14:31:32.216795Z",
     "shell.execute_reply.started": "2024-02-17T14:31:31.441314Z"
    },
    "papermill": {
     "duration": 1.040762,
     "end_time": "2024-04-23T18:05:12.563664",
     "exception": false,
     "start_time": "2024-04-23T18:05:11.522902",
     "status": "completed"
    },
    "tags": []
   },
   "outputs": [],
   "source": [
    "from sklearn.model_selection import train_test_split"
   ]
  },
  {
   "cell_type": "code",
   "execution_count": 11,
   "metadata": {
    "execution": {
     "iopub.execute_input": "2024-02-17T14:31:32.220545Z",
     "iopub.status.busy": "2024-02-17T14:31:32.220086Z",
     "iopub.status.idle": "2024-02-17T14:31:33.120942Z",
     "shell.execute_reply": "2024-02-17T14:31:33.119774Z",
     "shell.execute_reply.started": "2024-02-17T14:31:32.220474Z"
    },
    "papermill": {
     "duration": 0.989916,
     "end_time": "2024-04-23T18:05:13.591910",
     "exception": false,
     "start_time": "2024-04-23T18:05:12.601994",
     "status": "completed"
    },
    "tags": []
   },
   "outputs": [],
   "source": [
    "train_x,test_x,train_y,test_y = train_test_split(train_images,y1,test_size=0.2,random_state = 42)"
   ]
  },
  {
   "cell_type": "code",
   "execution_count": 12,
   "metadata": {
    "execution": {
     "iopub.execute_input": "2024-02-17T14:31:33.12349Z",
     "iopub.status.busy": "2024-02-17T14:31:33.122836Z",
     "iopub.status.idle": "2024-02-17T14:31:33.260952Z",
     "shell.execute_reply": "2024-02-17T14:31:33.259925Z",
     "shell.execute_reply.started": "2024-02-17T14:31:33.123409Z"
    },
    "papermill": {
     "duration": 0.212762,
     "end_time": "2024-04-23T18:05:13.840516",
     "exception": false,
     "start_time": "2024-04-23T18:05:13.627754",
     "status": "completed"
    },
    "tags": []
   },
   "outputs": [],
   "source": [
    "model = tf.keras.Sequential([ \n",
    "    tf.keras.layers.Conv2D(32,3,input_shape=(28,28,1)),\n",
    "    tf.keras.layers.MaxPooling2D(2,2),\n",
    "    tf.keras.layers.Flatten(input_shape=(28,28,1)),\n",
    "    tf.keras.layers.Dense(512,activation='relu'),\n",
    "    tf.keras.layers.Dense(128,activation='relu'),\n",
    "    tf.keras.layers.Dense(number_of_classes,activation='softmax')\n",
    "])"
   ]
  },
  {
   "cell_type": "code",
   "execution_count": 13,
   "metadata": {
    "execution": {
     "iopub.execute_input": "2024-02-17T14:31:33.262436Z",
     "iopub.status.busy": "2024-02-17T14:31:33.262108Z",
     "iopub.status.idle": "2024-02-17T14:31:33.304173Z",
     "shell.execute_reply": "2024-02-17T14:31:33.303214Z",
     "shell.execute_reply.started": "2024-02-17T14:31:33.262389Z"
    },
    "papermill": {
     "duration": 0.093002,
     "end_time": "2024-04-23T18:05:13.968253",
     "exception": false,
     "start_time": "2024-04-23T18:05:13.875251",
     "status": "completed"
    },
    "tags": []
   },
   "outputs": [],
   "source": [
    "model.compile(optimizer='adam',loss='categorical_crossentropy',metrics=['accuracy'])"
   ]
  },
  {
   "cell_type": "markdown",
   "metadata": {
    "papermill": {
     "duration": 0.034197,
     "end_time": "2024-04-23T18:05:14.038461",
     "exception": false,
     "start_time": "2024-04-23T18:05:14.004264",
     "status": "completed"
    },
    "tags": []
   },
   "source": [
    "## Adding Callback API's to save best weights and change lr"
   ]
  },
  {
   "cell_type": "code",
   "execution_count": 14,
   "metadata": {
    "execution": {
     "iopub.execute_input": "2024-02-17T14:31:33.305718Z",
     "iopub.status.busy": "2024-02-17T14:31:33.305419Z",
     "iopub.status.idle": "2024-02-17T14:31:33.311906Z",
     "shell.execute_reply": "2024-02-17T14:31:33.310832Z",
     "shell.execute_reply.started": "2024-02-17T14:31:33.305674Z"
    },
    "papermill": {
     "duration": 0.048767,
     "end_time": "2024-04-23T18:05:14.122683",
     "exception": false,
     "start_time": "2024-04-23T18:05:14.073916",
     "status": "completed"
    },
    "tags": []
   },
   "outputs": [],
   "source": [
    " \n",
    "MCP = ModelCheckpoint('Best_points.h5',verbose=1,save_best_only=True,monitor='val_accuracy',mode='max')\n",
    "ES = EarlyStopping(monitor='val_accuracy',min_delta=0,verbose=0,restore_best_weights = True,patience=3,mode='max')\n",
    "RLP = ReduceLROnPlateau(monitor='val_loss',patience=3,factor=0.2,min_lr=0.0001)"
   ]
  },
  {
   "cell_type": "code",
   "execution_count": 15,
   "metadata": {
    "execution": {
     "iopub.execute_input": "2024-02-17T14:31:33.313927Z",
     "iopub.status.busy": "2024-02-17T14:31:33.313478Z",
     "iopub.status.idle": "2024-02-17T14:39:03.397021Z",
     "shell.execute_reply": "2024-02-17T14:39:03.395917Z",
     "shell.execute_reply.started": "2024-02-17T14:31:33.313758Z"
    },
    "papermill": {
     "duration": 540.954225,
     "end_time": "2024-04-23T18:14:15.114447",
     "exception": false,
     "start_time": "2024-04-23T18:05:14.160222",
     "status": "completed"
    },
    "tags": []
   },
   "outputs": [
    {
     "name": "stdout",
     "output_type": "stream",
     "text": [
      "Train on 71039 samples, validate on 17760 samples\n",
      "Epoch 1/10\n",
      "70976/71039 [============================>.] - ETA: 0s - loss: 0.5601 - accuracy: 0.8261\n",
      "Epoch 00001: val_accuracy improved from -inf to 0.88986, saving model to Best_points.h5\n",
      "71039/71039 [==============================] - 62s 873us/sample - loss: 0.5601 - accuracy: 0.8261 - val_loss: 0.3396 - val_accuracy: 0.8899\n",
      "Epoch 2/10\n",
      "70944/71039 [============================>.] - ETA: 0s - loss: 0.2822 - accuracy: 0.9057\n",
      "Epoch 00002: val_accuracy improved from 0.88986 to 0.90276, saving model to Best_points.h5\n",
      "71039/71039 [==============================] - 59s 828us/sample - loss: 0.2822 - accuracy: 0.9057 - val_loss: 0.2916 - val_accuracy: 0.9028\n",
      "Epoch 3/10\n",
      "71008/71039 [============================>.] - ETA: 0s - loss: 0.2101 - accuracy: 0.9265\n",
      "Epoch 00003: val_accuracy improved from 0.90276 to 0.90411, saving model to Best_points.h5\n",
      "71039/71039 [==============================] - 59s 835us/sample - loss: 0.2100 - accuracy: 0.9266 - val_loss: 0.2947 - val_accuracy: 0.9041\n",
      "Epoch 4/10\n",
      "70944/71039 [============================>.] - ETA: 0s - loss: 0.1692 - accuracy: 0.9374\n",
      "Epoch 00004: val_accuracy did not improve from 0.90411\n",
      "71039/71039 [==============================] - 58s 820us/sample - loss: 0.1692 - accuracy: 0.9374 - val_loss: 0.3359 - val_accuracy: 0.8962\n",
      "Epoch 5/10\n",
      "70944/71039 [============================>.] - ETA: 0s - loss: 0.1365 - accuracy: 0.9487\n",
      "Epoch 00005: val_accuracy did not improve from 0.90411\n",
      "71039/71039 [==============================] - 60s 840us/sample - loss: 0.1366 - accuracy: 0.9486 - val_loss: 0.3997 - val_accuracy: 0.8883\n",
      "Epoch 6/10\n",
      "71008/71039 [============================>.] - ETA: 0s - loss: 0.0444 - accuracy: 0.9809\n",
      "Epoch 00008: val_accuracy did not improve from 0.92303\n",
      "71039/71039 [==============================] - 59s 834us/sample - loss: 0.0445 - accuracy: 0.9809 - val_loss: 0.3212 - val_accuracy: 0.9205\n",
      "Epoch 9/10\n",
      "71008/71039 [============================>.] - ETA: 0s - loss: 0.0392 - accuracy: 0.9831\n",
      "Epoch 00009: val_accuracy did not improve from 0.92303\n",
      "71039/71039 [==============================] - 59s 825us/sample - loss: 0.0392 - accuracy: 0.9831 - val_loss: 0.3393 - val_accuracy: 0.9230\n"
     ]
    }
   ],
   "source": [
    "history = model.fit(train_x,train_y,epochs=10,validation_data=(test_x,test_y),callbacks=[MCP,ES,RLP])"
   ]
  },
  {
   "cell_type": "markdown",
   "metadata": {
    "papermill": {
     "duration": 2.535294,
     "end_time": "2024-04-23T18:14:20.357637",
     "exception": false,
     "start_time": "2024-04-23T18:14:17.822343",
     "status": "completed"
    },
    "tags": []
   },
   "source": [
    "## Let's plot Accuracy vs Val_Accuracy to further evaluation.."
   ]
  },
  {
   "cell_type": "code",
   "execution_count": 16,
   "metadata": {
    "execution": {
     "iopub.execute_input": "2024-02-17T14:39:03.400092Z",
     "iopub.status.busy": "2024-02-17T14:39:03.399707Z",
     "iopub.status.idle": "2024-02-17T14:39:03.51331Z",
     "shell.execute_reply": "2024-02-17T14:39:03.512418Z",
     "shell.execute_reply.started": "2024-02-17T14:39:03.400036Z"
    },
    "papermill": {
     "duration": 2.669417,
     "end_time": "2024-04-23T18:14:25.547192",
     "exception": false,
     "start_time": "2024-04-23T18:14:22.877775",
     "status": "completed"
    },
    "tags": []
   },
   "outputs": [],
   "source": [
    "import seaborn as sns"
   ]
  },
  {
   "cell_type": "code",
   "execution_count": 17,
   "metadata": {
    "execution": {
     "iopub.execute_input": "2024-02-17T14:39:03.516027Z",
     "iopub.status.busy": "2024-02-17T14:39:03.515198Z",
     "iopub.status.idle": "2024-02-17T14:39:03.767827Z",
     "shell.execute_reply": "2024-02-17T14:39:03.766672Z",
     "shell.execute_reply.started": "2024-02-17T14:39:03.515957Z"
    },
    "papermill": {
     "duration": 2.860408,
     "end_time": "2024-04-23T18:14:31.003107",
     "exception": false,
     "start_time": "2024-04-23T18:14:28.142699",
     "status": "completed"
    },
    "tags": []
   },
   "outputs": [
    {
     "data": {
      "text/plain": [
       "Text(0, 0.5, 'Accuray')"
      ]
     },
     "execution_count": 17,
     "metadata": {},
     "output_type": "execute_result"
    },
    {
     "data": {
      "image/png": "[encoded data removed]",
      "text/plain": [
       "<Figure size 432x288 with 1 Axes>"
      ]
     },
     "metadata": {
      "needs_background": "light"
     },
     "output_type": "display_data"
    }
   ],
   "source": [
    "q = len(history.history['accuracy'])\n",
    "\n",
    "plt.figsize=(10,10)\n",
    "sns.lineplot(x = range(1,1+q),y = history.history['accuracy'], label='Accuracy')\n",
    "sns.lineplot(x = range(1,1+q),y = history.history['val_accuracy'], label='Val_Accuracy')\n",
    "plt.xlabel('epochs')\n",
    "plt.ylabel('Accuray')"
   ]
  },
  {
   "cell_type": "markdown",
   "metadata": {
    "papermill": {
     "duration": 2.536891,
     "end_time": "2024-04-23T18:14:36.112887",
     "exception": false,
     "start_time": "2024-04-23T18:14:33.575996",
     "status": "completed"
    },
    "tags": []
   },
   "source": [
    "## Changing the test_split size to 0.15 to see if validation score increases or not"
   ]
  },
  {
   "cell_type": "code",
   "execution_count": 18,
   "metadata": {
    "execution": {
     "iopub.execute_input": "2024-02-17T14:39:03.770375Z",
     "iopub.status.busy": "2024-02-17T14:39:03.769617Z",
     "iopub.status.idle": "2024-02-17T14:39:04.719511Z",
     "shell.execute_reply": "2024-02-17T14:39:04.718562Z",
     "shell.execute_reply.started": "2024-02-17T14:39:03.770305Z"
    },
    "papermill": {
     "duration": 3.615431,
     "end_time": "2024-04-23T18:14:42.300436",
     "exception": false,
     "start_time": "2024-04-23T18:14:38.685005",
     "status": "completed"
    },
    "tags": []
   },
   "outputs": [],
   "source": [
    "train_x2,test_x2,train_y2,test_y2 = train_test_split(train_images,y1,test_size=0.15,random_state = 42)"
   ]
  },
  {
   "cell_type": "code",
   "execution_count": 19,
   "metadata": {
    "execution": {
     "iopub.execute_input": "2024-02-17T14:39:04.722336Z",
     "iopub.status.busy": "2024-02-17T14:39:04.721394Z",
     "iopub.status.idle": "2024-02-17T14:47:49.086604Z",
     "shell.execute_reply": "2024-02-17T14:47:49.085454Z",
     "shell.execute_reply.started": "2024-02-17T14:39:04.722259Z"
    },
    "papermill": {
     "duration": 622.995407,
     "end_time": "2024-04-23T18:25:07.908552",
     "exception": false,
     "start_time": "2024-04-23T18:14:44.913145",
     "status": "completed"
    },
    "tags": []
   },
   "outputs": [
    {
     "name": "stdout",
     "output_type": "stream",
     "text": [
      "Train on 75479 samples, validate on 13320 samples\n",
      "Epoch 1/10\n",
      "75479/75479 [==============================] - 62s 815us/sample - loss: 0.0644 - accuracy: 0.9766 - val_loss: 0.2766 - val_accuracy: 0.9257\n",
      "Epoch 2/10\n",
      "75479/75479 [==============================] - 62s 816us/sample - loss: 0.0505 - accuracy: 0.9804 - val_loss: 0.2905 - val_accuracy: 0.9242\n",
      "Epoch 3/10\n",
      "75479/75479 [==============================] - 60s 796us/sample - loss: 0.0440 - accuracy: 0.9822 - val_loss: 0.3006 - val_accuracy: 0.9248\n",
      "Epoch 4/10\n",
      "75479/75479 [==============================] - 60s 796us/sample - loss: 0.0397 - accuracy: 0.9835 - val_loss: 0.3151 - val_accuracy: 0.9247\n",
      "Epoch 5/10\n",
      "75479/75479 [==============================] - 61s 812us/sample - loss: 0.0360 - accuracy: 0.9847 - val_loss: 0.3338 - val_accuracy: 0.9251\n",
      "Epoch 6/10\n",
      "75479/75479 [==============================] - 61s 815us/sample - loss: 0.0333 - accuracy: 0.9857 - val_loss: 0.3510 - val_accuracy: 0.9245\n",
      "Epoch 7/10\n",
      "75479/75479 [==============================] - 62s 825us/sample - loss: 0.0309 - accuracy: 0.9864 - val_loss: 0.3674 - val_accuracy: 0.9226\n",
      "Epoch 8/10\n",
      "75479/75479 [==============================] - 61s 813us/sample - loss: 0.0289 - accuracy: 0.9873 - val_loss: 0.3893 - val_accuracy: 0.9227\n",
      "Epoch 9/10\n",
      "75479/75479 [==============================] - 61s 808us/sample - loss: 0.0271 - accuracy: 0.9881 - val_loss: 0.4096 - val_accuracy: 0.9234\n",
      "Epoch 10/10\n",
      "75479/75479 [==============================] - 61s 812us/sample - loss: 0.0254 - accuracy: 0.9885 - val_loss: 0.4252 - val_accuracy: 0.9219\n"
     ]
    }
   ],
   "source": [
    "history1 = model.fit(train_x2,train_y2,epochs=10,validation_data=(test_x2,test_y2))"
   ]
  },
  {
   "cell_type": "code",
   "execution_count": 20,
   "metadata": {
    "execution": {
     "iopub.execute_input": "2024-02-17T14:47:49.089012Z",
     "iopub.status.busy": "2024-02-17T14:47:49.088314Z",
     "iopub.status.idle": "2024-02-17T14:47:49.35657Z",
     "shell.execute_reply": "2024-02-17T14:47:49.355529Z",
     "shell.execute_reply.started": "2024-02-17T14:47:49.088692Z"
    },
    "papermill": {
     "duration": 6.61897,
     "end_time": "2024-04-23T18:25:20.757781",
     "exception": false,
     "start_time": "2024-04-23T18:25:14.138811",
     "status": "completed"
    },
    "tags": []
   },
   "outputs": [
    {
     "data": {
      "text/plain": [
       "Text(0, 0.5, 'Accuray')"
      ]
     },
     "execution_count": 20,
     "metadata": {},
     "output_type": "execute_result"
    },
    {
     "data": {
      "image/png": "[encoded data removed]",
      "text/plain": [
       "<Figure size 432x288 with 1 Axes>"
      ]
     },
     "metadata": {
      "needs_background": "light"
     },
     "output_type": "display_data"
    }
   ],
   "source": [
    "q = len(history1.history['accuracy'])\n",
    "\n",
    "plt.figsize=(10,10)\n",
    "sns.lineplot(x = range(1,1+q),y = history1.history['accuracy'], label='Accuracy')\n",
    "sns.lineplot(x = range(1,1+q),y = history1.history['val_accuracy'], label='Val_Accuracy')\n",
    "plt.xlabel('epochs')\n",
    "plt.ylabel('Accuray')"
   ]
  },
  {
   "cell_type": "markdown",
   "metadata": {
    "papermill": {
     "duration": 6.288239,
     "end_time": "2024-04-23T18:25:33.220668",
     "exception": false,
     "start_time": "2024-04-23T18:25:26.932429",
     "status": "completed"
    },
    "tags": []
   },
   "source": [
    "# As the validation score score went down we won't be changing the test_split size. \n",
    "# Thus the above model is better than the latter one."
   ]
  },
  {
   "cell_type": "markdown",
   "metadata": {
    "papermill": {
     "duration": 6.163587,
     "end_time": "2024-04-23T18:25:45.631119",
     "exception": false,
     "start_time": "2024-04-23T18:25:39.467532",
     "status": "completed"
    },
    "tags": []
   },
   "source": [
    "## Hope everyone who reads this notebook finds it helpful. \n",
    "## Do upvote it. Thank You🙏😃"
   ]
  },
  {
   "cell_type": "code",
   "execution_count": 21,
   "metadata": {
    "execution": {
     "iopub.execute_input": "2024-02-17T15:57:44.869005Z",
     "iopub.status.busy": "2024-02-17T15:57:44.868565Z",
     "iopub.status.idle": "2024-02-17T15:57:46.644485Z",
     "shell.execute_reply": "2024-02-17T15:57:46.643677Z",
     "shell.execute_reply.started": "2024-02-17T15:57:44.868949Z"
    },
    "papermill": {
     "duration": 8.721824,
     "end_time": "2024-04-23T18:26:00.586470",
     "exception": false,
     "start_time": "2024-04-23T18:25:51.864646",
     "status": "completed"
    },
    "tags": []
   },
   "outputs": [
    {
     "data": {
      "image/png": "[encoded data removed]",
      "text/plain": [
       "<Figure size 1440x576 with 20 Axes>"
      ]
     },
     "metadata": {
      "needs_background": "light"
     },
     "output_type": "display_data"
    }
   ],
   "source": [
    "import pandas as pd\n",
    "import numpy as np\n",
    "import matplotlib.pyplot as plt\n",
    "\n",
    "# Load the CSV file\n",
    "emnist_data = pd.read_csv('/kaggle/input/emnist/emnist-letters-test.csv')\n",
    "\n",
    "# Extract class labels and image data\n",
    "class_labels = emnist_data.iloc[:, 0].values\n",
    "image_data = emnist_data.iloc[:, 1:].values\n",
    "\n",
    "# Normalize pixel values\n",
    "image_data = image_data / 255.0\n",
    "\n",
    "# Reshape image data to 28x28\n",
    "image_data_reshaped = image_data.reshape(-1, 28, 28)\n",
    "\n",
    "# Dictionary to store one image for each class\n",
    "class_images = {}\n",
    "\n",
    "# Iterate through each class and find the first image\n",
    "unique_classes = np.unique(class_labels)\n",
    "num_classes = len(unique_classes)\n",
    "\n",
    "# Determine the number of rows and columns for subplots dynamically\n",
    "num_rows = (num_classes + 9) // 10  # 10 columns, adjust as needed\n",
    "num_cols = min(10, num_classes)\n",
    "\n",
    "fig, axes = plt.subplots(num_rows, num_cols, figsize=(20, 8))\n",
    "\n",
    "for i, ax in zip(unique_classes, axes.flat):\n",
    "    class_image = image_data_reshaped[class_labels == i][0]\n",
    "    ax.imshow(class_image, cmap='gray')\n",
    "    ax.set_title(f'Class {i}')\n",
    "    ax.axis('off')\n",
    "\n",
    "# Hide empty subplots\n",
    "for i in range(num_classes, num_rows * num_cols):\n",
    "    axes.flat[i].axis('off')\n",
    "\n",
    "plt.show()\n"
   ]
  },
  {
   "cell_type": "code",
   "execution_count": 22,
   "metadata": {
    "execution": {
     "iopub.execute_input": "2024-02-17T15:48:55.814562Z",
     "iopub.status.busy": "2024-02-17T15:48:55.814174Z",
     "iopub.status.idle": "2024-02-17T15:48:57.787433Z",
     "shell.execute_reply": "2024-02-17T15:48:57.786459Z",
     "shell.execute_reply.started": "2024-02-17T15:48:55.814512Z"
    },
    "papermill": {
     "duration": 9.713904,
     "end_time": "2024-04-23T18:26:16.466055",
     "exception": false,
     "start_time": "2024-04-23T18:26:06.752151",
     "status": "completed"
    },
    "tags": []
   },
   "outputs": [
    {
     "data": {
      "image/png": "[encoded data removed]",
      "text/plain": [
       "<Figure size 4320x216 with 20 Axes>"
      ]
     },
     "metadata": {
      "needs_background": "light"
     },
     "output_type": "display_data"
    }
   ],
   "source": [
    "import pandas as pd\n",
    "import numpy as np\n",
    "import matplotlib.pyplot as plt\n",
    "\n",
    "# Load the CSV file\n",
    "emnist_data = pd.read_csv('/kaggle/input/emnist/emnist-balanced-test.csv')\n",
    "\n",
    "# Extract class labels and image data\n",
    "class_labels = emnist_data.iloc[:, 0].values\n",
    "image_data = emnist_data.iloc[:, 1:].values\n",
    "\n",
    "# Normalize pixel values\n",
    "image_data = image_data / 255.0\n",
    "\n",
    "# Reshape image data to 28x28\n",
    "image_data_reshaped = image_data.reshape(-1, 28, 28)\n",
    "\n",
    "# Specify the class label you want to plot more examples of\n",
    "desired_class = 36  # Change this to the desired class label\n",
    "\n",
    "# Find indices of images belonging to the desired class\n",
    "class_indices = np.where(class_labels == desired_class)[0]\n",
    "\n",
    "# Plot multiple images belonging to the desired class\n",
    "num_examples = min(len(class_indices), 20)  # Plot up to 5 examples, adjust as needed\n",
    "fig, axes = plt.subplots(1, num_examples, figsize=(num_examples * 3, 3))\n",
    "\n",
    "for i, idx in enumerate(class_indices[:num_examples]):\n",
    "    ax = axes[i]\n",
    "    ax.imshow(image_data_reshaped[idx], cmap='gray')\n",
    "    ax.set_title(f'Class {class_labels[idx]}')\n",
    "    ax.axis('off')\n",
    "\n",
    "plt.show()"
   ]
  },
  {
   "cell_type": "code",
   "execution_count": null,
   "metadata": {
    "papermill": {
     "duration": 6.206837,
     "end_time": "2024-04-23T18:26:28.995045",
     "exception": false,
     "start_time": "2024-04-23T18:26:22.788208",
     "status": "completed"
    },
    "tags": []
   },
   "outputs": [],
   "source": []
  }
 ],
 "metadata": {
  "kaggle": {
   "accelerator": "none",
   "dataSources": [
    {
     "datasetId": 7160,
     "sourceId": 10705,
     "sourceType": "datasetVersion"
    }
   ],
   "dockerImageVersionId": 29907,
   "isGpuEnabled": false,
   "isInternetEnabled": false,
   "language": "python",
   "sourceType": "notebook"
  },
  "kernelspec": {
   "display_name": "Python 3",
   "language": "python",
   "name": "python3"
  },
  "language_info": {
   "codemirror_mode": {
    "name": "ipython",
    "version": 3
   },
   "file_extension": ".py",
   "mimetype": "text/x-python",
   "name": "python",
   "nbconvert_exporter": "python",
   "pygments_lexer": "ipython3",
   "version": "3.7.6"
  },
  "papermill": {
   "duration": 1314.265406,
   "end_time": "2024-04-23T18:26:36.724734",
   "environment_variables": {},
   "exception": null,
   "input_path": "__notebook__.ipynb",
   "output_path": "__notebook__.ipynb",
   "parameters": {},
   "start_time": "2024-04-23T18:04:42.459328",
   "version": "1.2.1"
  }
 },
 "nbformat": 4,
 "nbformat_minor": 4
}
